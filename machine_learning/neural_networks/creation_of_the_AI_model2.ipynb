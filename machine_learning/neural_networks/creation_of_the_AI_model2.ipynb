{
 "cells": [
  {
   "cell_type": "code",
   "execution_count": 98,
   "id": "94729263",
   "metadata": {},
   "outputs": [],
   "source": [
    "import pandas as pd\n",
    "import numpy as np"
   ]
  },
  {
   "cell_type": "code",
   "execution_count": 99,
   "id": "dc9ff4a9",
   "metadata": {},
   "outputs": [],
   "source": [
    "data= pd.read_csv('../data/Master2.csv')"
   ]
  },
  {
   "cell_type": "code",
   "execution_count": 100,
   "id": "56627161",
   "metadata": {},
   "outputs": [
    {
     "data": {
      "text/html": [
       "<div>\n",
       "<style scoped>\n",
       "    .dataframe tbody tr th:only-of-type {\n",
       "        vertical-align: middle;\n",
       "    }\n",
       "\n",
       "    .dataframe tbody tr th {\n",
       "        vertical-align: top;\n",
       "    }\n",
       "\n",
       "    .dataframe thead th {\n",
       "        text-align: right;\n",
       "    }\n",
       "</style>\n",
       "<table border=\"1\" class=\"dataframe\">\n",
       "  <thead>\n",
       "    <tr style=\"text-align: right;\">\n",
       "      <th></th>\n",
       "      <th>Unnamed: 0</th>\n",
       "      <th>sale_day</th>\n",
       "      <th>customer_score</th>\n",
       "      <th>losses_day</th>\n",
       "      <th>Organization</th>\n",
       "      <th>Responsibility</th>\n",
       "      <th>Conduct</th>\n",
       "      <th>Resource_management</th>\n",
       "      <th>Conflict_management</th>\n",
       "      <th>Contribution</th>\n",
       "      <th>Outcome</th>\n",
       "    </tr>\n",
       "  </thead>\n",
       "  <tbody>\n",
       "    <tr>\n",
       "      <th>0</th>\n",
       "      <td>0</td>\n",
       "      <td>2340</td>\n",
       "      <td>2</td>\n",
       "      <td>-29</td>\n",
       "      <td>1</td>\n",
       "      <td>0</td>\n",
       "      <td>1</td>\n",
       "      <td>1</td>\n",
       "      <td>0</td>\n",
       "      <td>0</td>\n",
       "      <td>0</td>\n",
       "    </tr>\n",
       "    <tr>\n",
       "      <th>1</th>\n",
       "      <td>1</td>\n",
       "      <td>754</td>\n",
       "      <td>5</td>\n",
       "      <td>-51</td>\n",
       "      <td>1</td>\n",
       "      <td>1</td>\n",
       "      <td>1</td>\n",
       "      <td>1</td>\n",
       "      <td>0</td>\n",
       "      <td>0</td>\n",
       "      <td>1</td>\n",
       "    </tr>\n",
       "    <tr>\n",
       "      <th>2</th>\n",
       "      <td>2</td>\n",
       "      <td>4591</td>\n",
       "      <td>2</td>\n",
       "      <td>-2</td>\n",
       "      <td>0</td>\n",
       "      <td>1</td>\n",
       "      <td>1</td>\n",
       "      <td>0</td>\n",
       "      <td>0</td>\n",
       "      <td>1</td>\n",
       "      <td>0</td>\n",
       "    </tr>\n",
       "    <tr>\n",
       "      <th>3</th>\n",
       "      <td>3</td>\n",
       "      <td>822</td>\n",
       "      <td>0</td>\n",
       "      <td>-47</td>\n",
       "      <td>0</td>\n",
       "      <td>1</td>\n",
       "      <td>1</td>\n",
       "      <td>1</td>\n",
       "      <td>1</td>\n",
       "      <td>0</td>\n",
       "      <td>1</td>\n",
       "    </tr>\n",
       "    <tr>\n",
       "      <th>4</th>\n",
       "      <td>4</td>\n",
       "      <td>2996</td>\n",
       "      <td>3</td>\n",
       "      <td>-30</td>\n",
       "      <td>1</td>\n",
       "      <td>1</td>\n",
       "      <td>0</td>\n",
       "      <td>0</td>\n",
       "      <td>1</td>\n",
       "      <td>0</td>\n",
       "      <td>0</td>\n",
       "    </tr>\n",
       "  </tbody>\n",
       "</table>\n",
       "</div>"
      ],
      "text/plain": [
       "   Unnamed: 0  sale_day  customer_score  losses_day  Organization  \\\n",
       "0           0      2340               2         -29             1   \n",
       "1           1       754               5         -51             1   \n",
       "2           2      4591               2          -2             0   \n",
       "3           3       822               0         -47             0   \n",
       "4           4      2996               3         -30             1   \n",
       "\n",
       "   Responsibility  Conduct  Resource_management  Conflict_management  \\\n",
       "0               0        1                    1                    0   \n",
       "1               1        1                    1                    0   \n",
       "2               1        1                    0                    0   \n",
       "3               1        1                    1                    1   \n",
       "4               1        0                    0                    1   \n",
       "\n",
       "   Contribution  Outcome  \n",
       "0             0        0  \n",
       "1             0        1  \n",
       "2             1        0  \n",
       "3             0        1  \n",
       "4             0        0  "
      ]
     },
     "execution_count": 100,
     "metadata": {},
     "output_type": "execute_result"
    }
   ],
   "source": [
    "data.head(5)"
   ]
  },
  {
   "cell_type": "code",
   "execution_count": 101,
   "id": "685eae87",
   "metadata": {},
   "outputs": [
    {
     "name": "stdout",
     "output_type": "stream",
     "text": [
      "<class 'pandas.core.frame.DataFrame'>\n",
      "RangeIndex: 4000 entries, 0 to 3999\n",
      "Data columns (total 11 columns):\n",
      " #   Column               Non-Null Count  Dtype\n",
      "---  ------               --------------  -----\n",
      " 0   Unnamed: 0           4000 non-null   int64\n",
      " 1   sale_day             4000 non-null   int64\n",
      " 2   customer_score       4000 non-null   int64\n",
      " 3   losses_day           4000 non-null   int64\n",
      " 4   Organization         4000 non-null   int64\n",
      " 5   Responsibility       4000 non-null   int64\n",
      " 6   Conduct              4000 non-null   int64\n",
      " 7   Resource_management  4000 non-null   int64\n",
      " 8   Conflict_management  4000 non-null   int64\n",
      " 9   Contribution         4000 non-null   int64\n",
      " 10  Outcome              4000 non-null   int64\n",
      "dtypes: int64(11)\n",
      "memory usage: 343.9 KB\n"
     ]
    }
   ],
   "source": [
    "data.info()"
   ]
  },
  {
   "cell_type": "code",
   "execution_count": 102,
   "id": "7b6e49fb",
   "metadata": {},
   "outputs": [],
   "source": [
    "data=data.drop(['Unnamed: 0'],axis=1) "
   ]
  },
  {
   "cell_type": "code",
   "execution_count": 103,
   "id": "14318cf7",
   "metadata": {},
   "outputs": [
    {
     "data": {
      "text/html": [
       "<div>\n",
       "<style scoped>\n",
       "    .dataframe tbody tr th:only-of-type {\n",
       "        vertical-align: middle;\n",
       "    }\n",
       "\n",
       "    .dataframe tbody tr th {\n",
       "        vertical-align: top;\n",
       "    }\n",
       "\n",
       "    .dataframe thead th {\n",
       "        text-align: right;\n",
       "    }\n",
       "</style>\n",
       "<table border=\"1\" class=\"dataframe\">\n",
       "  <thead>\n",
       "    <tr style=\"text-align: right;\">\n",
       "      <th></th>\n",
       "      <th>sale_day</th>\n",
       "      <th>customer_score</th>\n",
       "      <th>losses_day</th>\n",
       "      <th>Organization</th>\n",
       "      <th>Responsibility</th>\n",
       "      <th>Conduct</th>\n",
       "      <th>Resource_management</th>\n",
       "      <th>Conflict_management</th>\n",
       "      <th>Contribution</th>\n",
       "      <th>Outcome</th>\n",
       "    </tr>\n",
       "  </thead>\n",
       "  <tbody>\n",
       "    <tr>\n",
       "      <th>0</th>\n",
       "      <td>2340</td>\n",
       "      <td>2</td>\n",
       "      <td>-29</td>\n",
       "      <td>1</td>\n",
       "      <td>0</td>\n",
       "      <td>1</td>\n",
       "      <td>1</td>\n",
       "      <td>0</td>\n",
       "      <td>0</td>\n",
       "      <td>0</td>\n",
       "    </tr>\n",
       "    <tr>\n",
       "      <th>1</th>\n",
       "      <td>754</td>\n",
       "      <td>5</td>\n",
       "      <td>-51</td>\n",
       "      <td>1</td>\n",
       "      <td>1</td>\n",
       "      <td>1</td>\n",
       "      <td>1</td>\n",
       "      <td>0</td>\n",
       "      <td>0</td>\n",
       "      <td>1</td>\n",
       "    </tr>\n",
       "    <tr>\n",
       "      <th>2</th>\n",
       "      <td>4591</td>\n",
       "      <td>2</td>\n",
       "      <td>-2</td>\n",
       "      <td>0</td>\n",
       "      <td>1</td>\n",
       "      <td>1</td>\n",
       "      <td>0</td>\n",
       "      <td>0</td>\n",
       "      <td>1</td>\n",
       "      <td>0</td>\n",
       "    </tr>\n",
       "    <tr>\n",
       "      <th>3</th>\n",
       "      <td>822</td>\n",
       "      <td>0</td>\n",
       "      <td>-47</td>\n",
       "      <td>0</td>\n",
       "      <td>1</td>\n",
       "      <td>1</td>\n",
       "      <td>1</td>\n",
       "      <td>1</td>\n",
       "      <td>0</td>\n",
       "      <td>1</td>\n",
       "    </tr>\n",
       "    <tr>\n",
       "      <th>4</th>\n",
       "      <td>2996</td>\n",
       "      <td>3</td>\n",
       "      <td>-30</td>\n",
       "      <td>1</td>\n",
       "      <td>1</td>\n",
       "      <td>0</td>\n",
       "      <td>0</td>\n",
       "      <td>1</td>\n",
       "      <td>0</td>\n",
       "      <td>0</td>\n",
       "    </tr>\n",
       "    <tr>\n",
       "      <th>5</th>\n",
       "      <td>649</td>\n",
       "      <td>5</td>\n",
       "      <td>-1</td>\n",
       "      <td>1</td>\n",
       "      <td>1</td>\n",
       "      <td>0</td>\n",
       "      <td>1</td>\n",
       "      <td>1</td>\n",
       "      <td>1</td>\n",
       "      <td>1</td>\n",
       "    </tr>\n",
       "    <tr>\n",
       "      <th>6</th>\n",
       "      <td>4804</td>\n",
       "      <td>4</td>\n",
       "      <td>-47</td>\n",
       "      <td>1</td>\n",
       "      <td>1</td>\n",
       "      <td>0</td>\n",
       "      <td>1</td>\n",
       "      <td>1</td>\n",
       "      <td>1</td>\n",
       "      <td>0</td>\n",
       "    </tr>\n",
       "    <tr>\n",
       "      <th>7</th>\n",
       "      <td>3655</td>\n",
       "      <td>5</td>\n",
       "      <td>-37</td>\n",
       "      <td>0</td>\n",
       "      <td>1</td>\n",
       "      <td>0</td>\n",
       "      <td>1</td>\n",
       "      <td>1</td>\n",
       "      <td>0</td>\n",
       "      <td>0</td>\n",
       "    </tr>\n",
       "    <tr>\n",
       "      <th>8</th>\n",
       "      <td>4041</td>\n",
       "      <td>3</td>\n",
       "      <td>-22</td>\n",
       "      <td>0</td>\n",
       "      <td>1</td>\n",
       "      <td>1</td>\n",
       "      <td>0</td>\n",
       "      <td>0</td>\n",
       "      <td>1</td>\n",
       "      <td>0</td>\n",
       "    </tr>\n",
       "    <tr>\n",
       "      <th>9</th>\n",
       "      <td>2238</td>\n",
       "      <td>2</td>\n",
       "      <td>-84</td>\n",
       "      <td>1</td>\n",
       "      <td>1</td>\n",
       "      <td>0</td>\n",
       "      <td>1</td>\n",
       "      <td>1</td>\n",
       "      <td>1</td>\n",
       "      <td>0</td>\n",
       "    </tr>\n",
       "  </tbody>\n",
       "</table>\n",
       "</div>"
      ],
      "text/plain": [
       "   sale_day  customer_score  losses_day  Organization  Responsibility  \\\n",
       "0      2340               2         -29             1               0   \n",
       "1       754               5         -51             1               1   \n",
       "2      4591               2          -2             0               1   \n",
       "3       822               0         -47             0               1   \n",
       "4      2996               3         -30             1               1   \n",
       "5       649               5          -1             1               1   \n",
       "6      4804               4         -47             1               1   \n",
       "7      3655               5         -37             0               1   \n",
       "8      4041               3         -22             0               1   \n",
       "9      2238               2         -84             1               1   \n",
       "\n",
       "   Conduct  Resource_management  Conflict_management  Contribution  Outcome  \n",
       "0        1                    1                    0             0        0  \n",
       "1        1                    1                    0             0        1  \n",
       "2        1                    0                    0             1        0  \n",
       "3        1                    1                    1             0        1  \n",
       "4        0                    0                    1             0        0  \n",
       "5        0                    1                    1             1        1  \n",
       "6        0                    1                    1             1        0  \n",
       "7        0                    1                    1             0        0  \n",
       "8        1                    0                    0             1        0  \n",
       "9        0                    1                    1             1        0  "
      ]
     },
     "execution_count": 103,
     "metadata": {},
     "output_type": "execute_result"
    }
   ],
   "source": [
    "data.head(10)"
   ]
  },
  {
   "cell_type": "code",
   "execution_count": 104,
   "id": "fc903df8",
   "metadata": {},
   "outputs": [],
   "source": [
    "dataset = data.loc[:,['sale_day','customer_score','losses_day','Organization','Responsibility','Conduct','Resource_management','Conflict_management','Contribution']].values\n",
    "labels = data.loc[:, 'Outcome'].values"
   ]
  },
  {
   "cell_type": "code",
   "execution_count": 105,
   "id": "cd82859e",
   "metadata": {},
   "outputs": [
    {
     "name": "stdout",
     "output_type": "stream",
     "text": [
      "[[ 2340     2   -29 ...     1     0     0]\n",
      " [  754     5   -51 ...     1     0     0]\n",
      " [ 4591     2    -2 ...     0     0     1]\n",
      " ...\n",
      " [ 4110     0 -1271 ...     0     0     0]\n",
      " [ 3451     1  -378 ...     0     0     0]\n",
      " [ 4008     1 -1377 ...     0     0     0]]\n"
     ]
    }
   ],
   "source": [
    "print(dataset)"
   ]
  },
  {
   "cell_type": "code",
   "execution_count": 106,
   "id": "b549e6bc",
   "metadata": {},
   "outputs": [
    {
     "name": "stdout",
     "output_type": "stream",
     "text": [
      "[0 1 0 ... 0 0 0]\n"
     ]
    }
   ],
   "source": [
    "print(labels)"
   ]
  },
  {
   "cell_type": "code",
   "execution_count": 107,
   "id": "48fd8d02",
   "metadata": {},
   "outputs": [],
   "source": [
    "from sklearn.model_selection import train_test_split"
   ]
  },
  {
   "cell_type": "code",
   "execution_count": 108,
   "id": "a38ef8b2",
   "metadata": {},
   "outputs": [],
   "source": [
    "dataset_train,dataset_test,labels_train,labels_test = train_test_split(dataset,labels, test_size=0.4)"
   ]
  },
  {
   "cell_type": "code",
   "execution_count": 109,
   "id": "6d95e12c",
   "metadata": {},
   "outputs": [
    {
     "name": "stdout",
     "output_type": "stream",
     "text": [
      "[[  101     3    -6 ...     1     1     1]\n",
      " [  217     4    -3 ...     0     1     0]\n",
      " [  766     2 -1465 ...     0     0     0]\n",
      " ...\n",
      " [  444     2  -268 ...     0     0     0]\n",
      " [ 3010     1   -89 ...     1     0     0]\n",
      " [  914     1  -637 ...     0     0     0]]\n"
     ]
    }
   ],
   "source": [
    "print(dataset_test)"
   ]
  },
  {
   "cell_type": "code",
   "execution_count": 110,
   "id": "d226da85",
   "metadata": {},
   "outputs": [
    {
     "name": "stdout",
     "output_type": "stream",
     "text": [
      "[1 1 1 ... 1 0 1]\n"
     ]
    }
   ],
   "source": [
    "print(labels_test)"
   ]
  },
  {
   "cell_type": "code",
   "execution_count": 111,
   "id": "e28e5b8c",
   "metadata": {},
   "outputs": [],
   "source": [
    "from tensorflow.keras import models\n",
    "from tensorflow.keras import layers"
   ]
  },
  {
   "cell_type": "code",
   "execution_count": 112,
   "id": "52c9ea5b",
   "metadata": {},
   "outputs": [],
   "source": [
    "#Dropout permite regularizar a la red neuronal durante la etapa de entrenamiento\n",
    "model = models.Sequential()\n",
    "\n",
    "model.add(layers.Dense(600, activation='relu', input_shape=(9,)))#Primera capa oculta\n",
    "#model.add(layers.Dropout(0.1))\n",
    "\n",
    "model.add(layers.Dense(360, activation='relu')) #segunda capa oculta\n",
    "#model.add(layers.Dropout(0.1))\n",
    "\n",
    "model.add(layers.Dense(160, activation='relu')) #segunda capa oculta\n",
    "#model.add(layers.Dropout(0.1))\n",
    "\n",
    "\n",
    "model.add(layers.Dense(16, activation='relu')) #tercera capa oculta\n",
    "#model.add(layers.Dropout(0.1))\n",
    "model.add(layers.Dense(1,activation='sigmoid'))#Capa de salida de clasificación"
   ]
  },
  {
   "cell_type": "code",
   "execution_count": 113,
   "id": "432455cb",
   "metadata": {},
   "outputs": [
    {
     "name": "stdout",
     "output_type": "stream",
     "text": [
      "Model: \"sequential_4\"\n",
      "_________________________________________________________________\n",
      " Layer (type)                Output Shape              Param #   \n",
      "=================================================================\n",
      " dense_20 (Dense)            (None, 600)               6000      \n",
      "                                                                 \n",
      " dense_21 (Dense)            (None, 360)               216360    \n",
      "                                                                 \n",
      " dense_22 (Dense)            (None, 160)               57760     \n",
      "                                                                 \n",
      " dense_23 (Dense)            (None, 16)                2576      \n",
      "                                                                 \n",
      " dense_24 (Dense)            (None, 1)                 17        \n",
      "                                                                 \n",
      "=================================================================\n",
      "Total params: 282,713\n",
      "Trainable params: 282,713\n",
      "Non-trainable params: 0\n",
      "_________________________________________________________________\n"
     ]
    }
   ],
   "source": [
    "model.summary()"
   ]
  },
  {
   "cell_type": "code",
   "execution_count": 114,
   "id": "49c442e9",
   "metadata": {},
   "outputs": [],
   "source": [
    "from tensorflow.keras import optimizers\n",
    "model.compile(optimizer='adam',\n",
    "              loss='binary_crossentropy',\n",
    "              metrics=['accuracy'])"
   ]
  },
  {
   "cell_type": "code",
   "execution_count": 115,
   "id": "97ba8874",
   "metadata": {},
   "outputs": [],
   "source": [
    "from tensorflow.keras.callbacks import EarlyStopping\n",
    "from tensorflow.keras.callbacks import ModelCheckpoint"
   ]
  },
  {
   "cell_type": "code",
   "execution_count": 116,
   "id": "9da605a8",
   "metadata": {},
   "outputs": [],
   "source": [
    "es = EarlyStopping(monitor= 'val_accuracy', mode='max', patience = 20, verbose=1)\n",
    "mc = ModelCheckpoint('../modeloAI/modeloEmployee2.h5', monitor='val_accuracy', mode='max', verbose=1, save_best_only=True)\n"
   ]
  },
  {
   "cell_type": "code",
   "execution_count": 117,
   "id": "280be8a7",
   "metadata": {},
   "outputs": [
    {
     "name": "stdout",
     "output_type": "stream",
     "text": [
      "Epoch 1/53\n",
      "1/3 [=========>....................] - ETA: 0s - loss: 9.8577 - accuracy: 0.4130\n",
      "Epoch 00001: val_accuracy improved from -inf to 0.49750, saving model to ../modeloAI\\modeloEmployee2.h5\n",
      "3/3 [==============================] - 1s 118ms/step - loss: 69.9330 - accuracy: 0.5046 - val_loss: 2.5490 - val_accuracy: 0.4975\n",
      "Epoch 2/53\n",
      "1/3 [=========>....................] - ETA: 0s - loss: 2.3917 - accuracy: 0.5140\n",
      "Epoch 00002: val_accuracy improved from 0.49750 to 0.56750, saving model to ../modeloAI\\modeloEmployee2.h5\n",
      "3/3 [==============================] - 0s 52ms/step - loss: 2.5970 - accuracy: 0.4904 - val_loss: 2.1086 - val_accuracy: 0.5675\n",
      "Epoch 3/53\n",
      "1/3 [=========>....................] - ETA: 0s - loss: 2.0311 - accuracy: 0.5650\n",
      "Epoch 00003: val_accuracy did not improve from 0.56750\n",
      "3/3 [==============================] - 0s 36ms/step - loss: 2.7832 - accuracy: 0.5150 - val_loss: 4.4260 - val_accuracy: 0.4919\n",
      "Epoch 4/53\n",
      "1/3 [=========>....................] - ETA: 0s - loss: 4.4382 - accuracy: 0.4950\n",
      "Epoch 00004: val_accuracy did not improve from 0.56750\n",
      "3/3 [==============================] - 0s 44ms/step - loss: 3.7952 - accuracy: 0.4879 - val_loss: 1.7334 - val_accuracy: 0.4775\n",
      "Epoch 5/53\n",
      "1/3 [=========>....................] - ETA: 0s - loss: 1.5684 - accuracy: 0.4880\n",
      "Epoch 00005: val_accuracy did not improve from 0.56750\n",
      "3/3 [==============================] - 0s 41ms/step - loss: 2.3424 - accuracy: 0.5204 - val_loss: 3.5077 - val_accuracy: 0.4744\n",
      "Epoch 6/53\n",
      "1/3 [=========>....................] - ETA: 0s - loss: 3.5420 - accuracy: 0.4540\n",
      "Epoch 00006: val_accuracy did not improve from 0.56750\n",
      "3/3 [==============================] - 0s 39ms/step - loss: 3.6095 - accuracy: 0.4621 - val_loss: 2.2013 - val_accuracy: 0.4744\n",
      "Epoch 7/53\n",
      "1/3 [=========>....................] - ETA: 0s - loss: 2.1964 - accuracy: 0.4520\n",
      "Epoch 00007: val_accuracy did not improve from 0.56750\n",
      "3/3 [==============================] - 0s 37ms/step - loss: 1.6196 - accuracy: 0.5308 - val_loss: 0.7042 - val_accuracy: 0.5437\n",
      "Epoch 8/53\n",
      "1/3 [=========>....................] - ETA: 0s - loss: 0.6924 - accuracy: 0.5470\n",
      "Epoch 00008: val_accuracy did not improve from 0.56750\n",
      "3/3 [==============================] - 0s 36ms/step - loss: 0.7745 - accuracy: 0.5829 - val_loss: 1.1750 - val_accuracy: 0.5225\n",
      "Epoch 9/53\n",
      "1/3 [=========>....................] - ETA: 0s - loss: 1.2673 - accuracy: 0.4980\n",
      "Epoch 00009: val_accuracy did not improve from 0.56750\n",
      "3/3 [==============================] - 0s 34ms/step - loss: 1.1389 - accuracy: 0.5450 - val_loss: 1.3573 - val_accuracy: 0.5275\n",
      "Epoch 10/53\n",
      "1/3 [=========>....................] - ETA: 0s - loss: 1.3681 - accuracy: 0.5100\n",
      "Epoch 00010: val_accuracy did not improve from 0.56750\n",
      "3/3 [==============================] - 0s 35ms/step - loss: 1.7962 - accuracy: 0.5167 - val_loss: 1.8081 - val_accuracy: 0.5188\n",
      "Epoch 11/53\n",
      "1/3 [=========>....................] - ETA: 0s - loss: 1.8292 - accuracy: 0.5130\n",
      "Epoch 00011: val_accuracy did not improve from 0.56750\n",
      "3/3 [==============================] - 0s 35ms/step - loss: 1.6728 - accuracy: 0.5446 - val_loss: 0.9509 - val_accuracy: 0.5531\n",
      "Epoch 12/53\n",
      "1/3 [=========>....................] - ETA: 0s - loss: 0.9200 - accuracy: 0.5520\n",
      "Epoch 00012: val_accuracy did not improve from 0.56750\n",
      "3/3 [==============================] - 0s 34ms/step - loss: 1.2731 - accuracy: 0.5387 - val_loss: 1.1883 - val_accuracy: 0.5381\n",
      "Epoch 13/53\n",
      "1/3 [=========>....................] - ETA: 0s - loss: 1.1546 - accuracy: 0.5300\n",
      "Epoch 00013: val_accuracy did not improve from 0.56750\n",
      "3/3 [==============================] - 0s 35ms/step - loss: 0.9822 - accuracy: 0.6617 - val_loss: 1.8130 - val_accuracy: 0.5194\n",
      "Epoch 14/53\n",
      "1/3 [=========>....................] - ETA: 0s - loss: 1.6800 - accuracy: 0.5210\n",
      "Epoch 00014: val_accuracy did not improve from 0.56750\n",
      "3/3 [==============================] - 0s 41ms/step - loss: 2.7427 - accuracy: 0.5008 - val_loss: 3.5366 - val_accuracy: 0.4931\n",
      "Epoch 15/53\n",
      "1/3 [=========>....................] - ETA: 0s - loss: 3.6403 - accuracy: 0.4920\n",
      "Epoch 00015: val_accuracy improved from 0.56750 to 0.59688, saving model to ../modeloAI\\modeloEmployee2.h5\n",
      "3/3 [==============================] - 0s 59ms/step - loss: 2.8539 - accuracy: 0.4992 - val_loss: 1.2437 - val_accuracy: 0.5969\n",
      "Epoch 16/53\n",
      "1/3 [=========>....................] - ETA: 0s - loss: 1.2063 - accuracy: 0.6090\n",
      "Epoch 00016: val_accuracy improved from 0.59688 to 0.70812, saving model to ../modeloAI\\modeloEmployee2.h5\n",
      "3/3 [==============================] - 0s 51ms/step - loss: 0.8308 - accuracy: 0.6533 - val_loss: 0.5465 - val_accuracy: 0.7081\n",
      "Epoch 17/53\n",
      "1/3 [=========>....................] - ETA: 0s - loss: 0.5052 - accuracy: 0.7150\n",
      "Epoch 00017: val_accuracy did not improve from 0.70812\n",
      "3/3 [==============================] - 0s 38ms/step - loss: 0.8027 - accuracy: 0.6617 - val_loss: 1.6539 - val_accuracy: 0.5325\n",
      "Epoch 18/53\n",
      "1/3 [=========>....................] - ETA: 0s - loss: 1.7135 - accuracy: 0.5120\n",
      "Epoch 00018: val_accuracy improved from 0.70812 to 0.87437, saving model to ../modeloAI\\modeloEmployee2.h5\n",
      "3/3 [==============================] - 0s 51ms/step - loss: 1.5357 - accuracy: 0.5371 - val_loss: 0.5358 - val_accuracy: 0.8744\n",
      "Epoch 19/53\n",
      "1/3 [=========>....................] - ETA: 0s - loss: 0.4811 - accuracy: 0.8850\n",
      "Epoch 00019: val_accuracy did not improve from 0.87437\n",
      "3/3 [==============================] - 0s 38ms/step - loss: 1.0707 - accuracy: 0.7171 - val_loss: 2.0661 - val_accuracy: 0.5263\n",
      "Epoch 20/53\n",
      "1/3 [=========>....................] - ETA: 0s - loss: 2.1893 - accuracy: 0.5060\n",
      "Epoch 00020: val_accuracy did not improve from 0.87437\n",
      "3/3 [==============================] - 0s 40ms/step - loss: 2.1321 - accuracy: 0.5250 - val_loss: 1.2680 - val_accuracy: 0.5663\n",
      "Epoch 21/53\n",
      "1/3 [=========>....................] - ETA: 0s - loss: 1.2319 - accuracy: 0.5590\n",
      "Epoch 00021: val_accuracy did not improve from 0.87437\n",
      "3/3 [==============================] - 0s 40ms/step - loss: 1.2493 - accuracy: 0.6963 - val_loss: 0.9693 - val_accuracy: 0.6062\n",
      "Epoch 22/53\n",
      "1/3 [=========>....................] - ETA: 0s - loss: 0.9003 - accuracy: 0.6180\n",
      "Epoch 00022: val_accuracy did not improve from 0.87437\n",
      "3/3 [==============================] - 0s 37ms/step - loss: 1.6456 - accuracy: 0.5721 - val_loss: 2.2634 - val_accuracy: 0.5319\n",
      "Epoch 23/53\n",
      "1/3 [=========>....................] - ETA: 0s - loss: 2.2153 - accuracy: 0.5430\n",
      "Epoch 00023: val_accuracy did not improve from 0.87437\n",
      "3/3 [==============================] - 0s 38ms/step - loss: 1.7061 - accuracy: 0.5621 - val_loss: 2.9323 - val_accuracy: 0.5675\n",
      "Epoch 24/53\n",
      "1/3 [=========>....................] - ETA: 0s - loss: 2.8699 - accuracy: 0.5700\n",
      "Epoch 00024: val_accuracy did not improve from 0.87437\n",
      "3/3 [==============================] - 0s 36ms/step - loss: 1.5553 - accuracy: 0.6771 - val_loss: 1.1498 - val_accuracy: 0.5981\n",
      "Epoch 25/53\n",
      "1/3 [=========>....................] - ETA: 0s - loss: 1.0960 - accuracy: 0.6030\n",
      "Epoch 00025: val_accuracy did not improve from 0.87437\n",
      "3/3 [==============================] - 0s 38ms/step - loss: 0.9494 - accuracy: 0.6371 - val_loss: 1.5797 - val_accuracy: 0.6194\n",
      "Epoch 26/53\n",
      "1/3 [=========>....................] - ETA: 0s - loss: 1.5667 - accuracy: 0.6200\n",
      "Epoch 00026: val_accuracy did not improve from 0.87437\n",
      "3/3 [==============================] - 0s 39ms/step - loss: 1.0898 - accuracy: 0.6567 - val_loss: 1.1515 - val_accuracy: 0.6087\n",
      "Epoch 27/53\n",
      "1/3 [=========>....................] - ETA: 0s - loss: 1.1638 - accuracy: 0.6170\n",
      "Epoch 00027: val_accuracy did not improve from 0.87437\n",
      "3/3 [==============================] - 0s 38ms/step - loss: 1.4689 - accuracy: 0.6508 - val_loss: 0.8869 - val_accuracy: 0.6500\n",
      "Epoch 28/53\n",
      "1/3 [=========>....................] - ETA: 0s - loss: 0.8326 - accuracy: 0.6660\n",
      "Epoch 00028: val_accuracy did not improve from 0.87437\n",
      "3/3 [==============================] - 0s 35ms/step - loss: 1.0030 - accuracy: 0.6383 - val_loss: 0.5180 - val_accuracy: 0.7812\n",
      "Epoch 29/53\n",
      "1/3 [=========>....................] - ETA: 0s - loss: 0.5262 - accuracy: 0.7770\n",
      "Epoch 00029: val_accuracy did not improve from 0.87437\n",
      "3/3 [==============================] - 0s 37ms/step - loss: 1.0835 - accuracy: 0.6642 - val_loss: 1.4384 - val_accuracy: 0.5925\n"
     ]
    },
    {
     "name": "stdout",
     "output_type": "stream",
     "text": [
      "Epoch 30/53\n",
      "1/3 [=========>....................] - ETA: 0s - loss: 1.3592 - accuracy: 0.6030\n",
      "Epoch 00030: val_accuracy did not improve from 0.87437\n",
      "3/3 [==============================] - 0s 36ms/step - loss: 1.5264 - accuracy: 0.5858 - val_loss: 0.8659 - val_accuracy: 0.6550\n",
      "Epoch 31/53\n",
      "1/3 [=========>....................] - ETA: 0s - loss: 0.8176 - accuracy: 0.6650\n",
      "Epoch 00031: val_accuracy did not improve from 0.87437\n",
      "3/3 [==============================] - 0s 34ms/step - loss: 0.6965 - accuracy: 0.7133 - val_loss: 0.9154 - val_accuracy: 0.6500\n",
      "Epoch 32/53\n",
      "1/3 [=========>....................] - ETA: 0s - loss: 0.9154 - accuracy: 0.6580\n",
      "Epoch 00032: val_accuracy did not improve from 0.87437\n",
      "3/3 [==============================] - 0s 36ms/step - loss: 1.2524 - accuracy: 0.6104 - val_loss: 1.3120 - val_accuracy: 0.6044\n",
      "Epoch 33/53\n",
      "1/3 [=========>....................] - ETA: 0s - loss: 1.3693 - accuracy: 0.6000\n",
      "Epoch 00033: val_accuracy did not improve from 0.87437\n",
      "3/3 [==============================] - 0s 36ms/step - loss: 1.0517 - accuracy: 0.6417 - val_loss: 0.5768 - val_accuracy: 0.7600\n",
      "Epoch 34/53\n",
      "1/3 [=========>....................] - ETA: 0s - loss: 0.5253 - accuracy: 0.7700\n",
      "Epoch 00034: val_accuracy did not improve from 0.87437\n",
      "3/3 [==============================] - 0s 36ms/step - loss: 0.7646 - accuracy: 0.7058 - val_loss: 0.6835 - val_accuracy: 0.7281\n",
      "Epoch 35/53\n",
      "1/3 [=========>....................] - ETA: 0s - loss: 0.6179 - accuracy: 0.7420\n",
      "Epoch 00035: val_accuracy did not improve from 0.87437\n",
      "3/3 [==============================] - 0s 37ms/step - loss: 0.5807 - accuracy: 0.7917 - val_loss: 0.8396 - val_accuracy: 0.6825\n",
      "Epoch 36/53\n",
      "1/3 [=========>....................] - ETA: 0s - loss: 0.8355 - accuracy: 0.6850\n",
      "Epoch 00036: val_accuracy did not improve from 0.87437\n",
      "3/3 [==============================] - 0s 38ms/step - loss: 1.1558 - accuracy: 0.6408 - val_loss: 1.2399 - val_accuracy: 0.6256\n",
      "Epoch 37/53\n",
      "1/3 [=========>....................] - ETA: 0s - loss: 1.2888 - accuracy: 0.6240\n",
      "Epoch 00037: val_accuracy did not improve from 0.87437\n",
      "3/3 [==============================] - 0s 39ms/step - loss: 0.9664 - accuracy: 0.6596 - val_loss: 0.5523 - val_accuracy: 0.7763\n",
      "Epoch 38/53\n",
      "1/3 [=========>....................] - ETA: 0s - loss: 0.5148 - accuracy: 0.7850\n",
      "Epoch 00038: val_accuracy did not improve from 0.87437\n",
      "3/3 [==============================] - 0s 40ms/step - loss: 0.7078 - accuracy: 0.7312 - val_loss: 0.5852 - val_accuracy: 0.7725\n",
      "Epoch 00038: early stopping\n"
     ]
    }
   ],
   "source": [
    "history = model.fit(dataset_train,\n",
    "                    labels_train,\n",
    "                    epochs=53,\n",
    "                    batch_size=1000,\n",
    "                    validation_data=(dataset_test, labels_test),\n",
    "                    callbacks = [es, mc])"
   ]
  },
  {
   "cell_type": "markdown",
   "id": "ed43af05",
   "metadata": {},
   "source": [
    "# Para tomar el modelo"
   ]
  },
  {
   "cell_type": "code",
   "execution_count": 118,
   "id": "17bccf9d",
   "metadata": {},
   "outputs": [],
   "source": [
    "import tensorflow\n",
    "modelbetter = tensorflow.keras.models.load_model('../modeloAI/modeloEmployee2.h5', compile=True)"
   ]
  },
  {
   "cell_type": "code",
   "execution_count": 119,
   "id": "edc61a1e",
   "metadata": {},
   "outputs": [
    {
     "name": "stdout",
     "output_type": "stream",
     "text": [
      "50/50 [==============================] - 0s 2ms/step - loss: 0.5358 - accuracy: 0.8744\n"
     ]
    },
    {
     "data": {
      "text/plain": [
       "[0.5357601642608643, 0.8743749856948853]"
      ]
     },
     "execution_count": 119,
     "metadata": {},
     "output_type": "execute_result"
    }
   ],
   "source": [
    "modelbetter.evaluate(dataset_test, labels_test)"
   ]
  },
  {
   "cell_type": "code",
   "execution_count": 120,
   "id": "f29cecfb",
   "metadata": {},
   "outputs": [
    {
     "data": {
      "image/png": "[encoded data removed]",
      "text/plain": [
       "<Figure size 432x288 with 1 Axes>"
      ]
     },
     "metadata": {
      "needs_background": "light"
     },
     "output_type": "display_data"
    },
    {
     "data": {
      "image/png": "[encoded data removed]",
      "text/plain": [
       "<Figure size 432x288 with 1 Axes>"
      ]
     },
     "metadata": {
      "needs_background": "light"
     },
     "output_type": "display_data"
    }
   ],
   "source": [
    "import matplotlib.pyplot as plt \n",
    "plt.plot(history.history['accuracy'])\n",
    "plt.plot(history.history['val_accuracy'])\n",
    "plt.title('model accuracy')\n",
    "plt.ylabel('accuracy')\n",
    "plt.xlabel('epoch')\n",
    "plt.legend(['train', 'test'], loc='upper left')\n",
    "plt.show()\n",
    "\n",
    "# 16.) Plot Loss Over Training Period\n",
    "plt.plot(history.history['loss'])\n",
    "plt.plot(history.history['val_loss'])\n",
    "plt.title('model loss')\n",
    "plt.ylabel('loss')\n",
    "plt.xlabel('epoch')\n",
    "plt.legend(['train', 'test'], loc='upper left')\n",
    "plt.show()"
   ]
  },
  {
   "cell_type": "code",
   "execution_count": 121,
   "id": "66090380",
   "metadata": {},
   "outputs": [],
   "source": [
    "labelsAi = labels_test\n",
    "predictions =modelbetter.predict(dataset_test)"
   ]
  },
  {
   "cell_type": "code",
   "execution_count": 129,
   "id": "b4182fce",
   "metadata": {},
   "outputs": [
    {
     "data": {
      "text/plain": [
       "array([3010,    1,  -89,    1,    0,    1,    1,    0,    0], dtype=int64)"
      ]
     },
     "execution_count": 129,
     "metadata": {},
     "output_type": "execute_result"
    }
   ],
   "source": [
    "dataset_test[-2]"
   ]
  },
  {
   "cell_type": "code",
   "execution_count": 125,
   "id": "8c273654",
   "metadata": {},
   "outputs": [
    {
     "data": {
      "text/plain": [
       "array([1, 1, 1, ..., 1, 0, 1], dtype=int64)"
      ]
     },
     "execution_count": 125,
     "metadata": {},
     "output_type": "execute_result"
    }
   ],
   "source": [
    "labels_test"
   ]
  },
  {
   "cell_type": "code",
   "execution_count": 122,
   "id": "af3a6d4c",
   "metadata": {},
   "outputs": [
    {
     "name": "stdout",
     "output_type": "stream",
     "text": [
      "[[ True]\n",
      " [ True]\n",
      " [ True]\n",
      " ...\n",
      " [ True]\n",
      " [False]\n",
      " [ True]]\n"
     ]
    }
   ],
   "source": [
    "predictions = (predictions > 0.5)\n",
    "print(predictions)"
   ]
  },
  {
   "cell_type": "code",
   "execution_count": 123,
   "id": "5f4a81c4",
   "metadata": {},
   "outputs": [
    {
     "data": {
      "text/plain": [
       "array([[653,  39],\n",
       "       [162, 746]], dtype=int64)"
      ]
     },
     "execution_count": 123,
     "metadata": {},
     "output_type": "execute_result"
    }
   ],
   "source": [
    "from sklearn.metrics import confusion_matrix\n",
    "cm = confusion_matrix(labelsAi, predictions)\n",
    "cm"
   ]
  },
  {
   "cell_type": "code",
   "execution_count": 124,
   "id": "8a9cb02f",
   "metadata": {},
   "outputs": [
    {
     "name": "stdout",
     "output_type": "stream",
     "text": [
      "Precision: 0.874\n",
      "Recall: 0.874\n",
      "F1: 0.874\n"
     ]
    }
   ],
   "source": [
    "from sklearn.metrics import precision_score\n",
    "from sklearn.metrics import recall_score, f1_score\n",
    "\n",
    "print('Precision: %.3f' % precision_score(y_true=labelsAi, y_pred=predictions, average = 'micro'))\n",
    "print('Recall: %.3f' % recall_score(y_true=labelsAi, y_pred=predictions, average = 'micro'))\n",
    "print('F1: %.3f' % f1_score(y_true=labelsAi, y_pred=predictions, average = 'micro'))"
   ]
  },
  {
   "cell_type": "code",
   "execution_count": null,
   "id": "04b8bc26",
   "metadata": {},
   "outputs": [],
   "source": []
  }
 ],
 "metadata": {
  "kernelspec": {
   "display_name": "Python 3",
   "language": "python",
   "name": "python3"
  },
  "language_info": {
   "codemirror_mode": {
    "name": "ipython",
    "version": 3
   },
   "file_extension": ".py",
   "mimetype": "text/x-python",
   "name": "python",
   "nbconvert_exporter": "python",
   "pygments_lexer": "ipython3",
   "version": "3.8.8"
  }
 },
 "nbformat": 4,
 "nbformat_minor": 5
}
